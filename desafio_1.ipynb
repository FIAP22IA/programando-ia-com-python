{
 "cells": [
  {
   "cell_type": "markdown",
   "metadata": {},
   "source": [
    "# Desafio 1\n",
    "## Marcelo Leopoldo e Silva de Carvalho Filho - RM 342876"
   ]
  },
  {
   "cell_type": "markdown",
   "metadata": {},
   "source": [
    "### Conjectura de Legendre\n",
    "\n",
    "A Conjectura de Legendre, enunciada por de Adrien-Marie Legendre, afirma que existe sempre um número primo entre $n^2 $ e $(n+1)^2$, para qualquer $n$ inteiro positivo\n",
    "\n",
    "Seu desafio será criar uma função que, dado um input (inteiro n) retorne todos os números primos entre $n^2$ e $(n+1)^2$. \n",
    "\n",
    "Exemplo:\n",
    "\n",
    "    > input: 4\n",
    "    \n",
    "    > output: [17,19,23]"
   ]
  },
  {
   "cell_type": "code",
   "execution_count": 78,
   "metadata": {},
   "outputs": [],
   "source": [
    "def isprime(n):\n",
    "    \"\"\"\n",
    "    Esta função verifica se um número é ou não primo\n",
    "    \"\"\"\n",
    "    return False if n == 0 or n == 1 else all( n % i != 0 for i in range(2, int(n**.5)+1) )"
   ]
  },
  {
   "cell_type": "code",
   "execution_count": 79,
   "metadata": {},
   "outputs": [],
   "source": [
    "def LegendreConjecture(n):\n",
    "    \"\"\"\n",
    "    Esta função calcula a conjectura de Legendre, como descrita acima\n",
    "    \"\"\"\n",
    "    return list(filter(isprime ,range(n**2, (n + 1) ** 2)))"
   ]
  },
  {
   "cell_type": "code",
   "execution_count": 80,
   "metadata": {},
   "outputs": [
    {
     "name": "stdout",
     "output_type": "stream",
     "text": [
      "[17, 19, 23]\n",
      "[2, 3]\n"
     ]
    }
   ],
   "source": [
    "print(LegendreConjecture(4))\n",
    "# 1 is neither composite nor prime\n",
    "print(LegendreConjecture(1))"
   ]
  },
  {
   "cell_type": "markdown",
   "metadata": {},
   "source": [
    "## Classe de leitura de arquivo\n",
    "\n",
    "Crie uma classe que\n",
    "\n",
    "        > crie um método que tenta ler um arquivo de texto (.txt)\n",
    "        > crie um método usando regex para extrair datas do texto. Considere apenas os dois tipos: dd/mm/aaaa e d/m/aa\n",
    "        > crie um método que utilize Counter para contar a quantidade de cada caracter"
   ]
  },
  {
   "cell_type": "code",
   "execution_count": 64,
   "metadata": {},
   "outputs": [],
   "source": [
    "from functools import reduce\n",
    "from collections import Counter\n",
    "import re\n",
    "\n",
    "class ExtractTextInformation():\n",
    "    \"\"\"classe que extrai informações de um texto.\"\"\"\n",
    "    def __init__ (self):\n",
    "        self.text = \"\"\n",
    "        self.dates = []\n",
    "        self.chars = {}\n",
    "    \n",
    "    def __str__(self):\n",
    "        return \"ExtractTextInformation \\n\" \\\n",
    "            + \"  .text: \" + self.text[0:20] + \"[...] \\n\" \\\n",
    "            + \"  .dates: \" + self.dates.__str__() + \"\\n\" \\\n",
    "            + \"  .chars: \" + self.chars.__str__() + \"\\n\"\n",
    "\n",
    "    def readFile (self, path):\n",
    "        try:\n",
    "            file = open(path, \"r\")\n",
    "            self.text = file.read()\n",
    "            file.close()\n",
    "        except IOError:\n",
    "            print(\"Error: Could not read file\")\n",
    "        return self\n",
    "\n",
    "    def extractDates(self):\n",
    "        self.dates = re.findall(r'\\d{1,2}/\\d{1,2}/\\d{2}|\\d{4}', self.text)\n",
    "        return self\n",
    "\n",
    "    def countChars(self):\n",
    "        # self.chars = reduce(lambda d, c: dict({**d, c: d.get(c, 0) + 1} ) , self.text, {})\n",
    "        self.chars = Counter(self.text)\n",
    "        return self    "
   ]
  },
  {
   "cell_type": "code",
   "execution_count": 65,
   "metadata": {},
   "outputs": [
    {
     "name": "stdout",
     "output_type": "stream",
     "text": [
      "ExtractTextInformation \n",
      "  .text: Lorem ipsum dolor si[...] \n",
      "  .dates: ['22/12/98', '5/4/20']\n",
      "  .chars: Counter({' ': 513, 'e': 340, 'i': 279, 'u': 263, 't': 248, 'a': 245, 's': 228, 'r': 169, 'n': 159, 'l': 158, 'm': 148, 'o': 127, 'c': 119, 'd': 86, '.': 69, 'p': 62, 'v': 49, 'q': 44, 'g': 36, 'b': 34, 'f': 22, 'h': 11, 'A': 9, '\\n': 8, 'S': 7, 'N': 7, 'P': 6, 'U': 5, 'E': 5, 'M': 4, 'C': 4, 'D': 4, '2': 4, '/': 4, 'V': 4, 'L': 3, 'O': 3, ',': 2, 'F': 2, '8': 2, 'T': 2, '0': 2, 'I': 2, 'H': 1, '1': 1, '9': 1, '5': 1, '4': 1, 'R': 1})\n",
      "\n"
     ]
    }
   ],
   "source": [
    "text_info = ExtractTextInformation()\n",
    "text_info.readFile(\"text.txt\").countChars().extractDates()\n",
    "print(text_info)"
   ]
  }
 ],
 "metadata": {
  "kernelspec": {
   "display_name": "Python 3",
   "language": "python",
   "name": "python3"
  },
  "language_info": {
   "codemirror_mode": {
    "name": "ipython",
    "version": 3
   },
   "file_extension": ".py",
   "mimetype": "text/x-python",
   "name": "python",
   "nbconvert_exporter": "python",
   "pygments_lexer": "ipython3",
   "version": "3.9.9"
  }
 },
 "nbformat": 4,
 "nbformat_minor": 4
}
