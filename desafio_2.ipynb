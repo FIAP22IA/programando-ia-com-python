{
 "cells": [
  {
   "cell_type": "markdown",
   "metadata": {},
   "source": [
    "# Desafio 2\n",
    "## Marcelo Leopoldo e Silva de Carvalho Filho - RM 342876"
   ]
  },
  {
   "cell_type": "markdown",
   "metadata": {},
   "source": [
    "### Obtendo informações importantes acerca do dataset\n",
    "\n",
    "Vamos utilizar o dataset breast_cancer_data.csv para fazer uma análise exploratória cujo objetivo é responder a alguns questionamentos que surgiram a respeito desse conjunto.\n",
    "\n",
    "Vamos começar lendo e entendendo nossos dados:"
   ]
  },
  {
   "cell_type": "code",
   "execution_count": 2,
   "metadata": {},
   "outputs": [],
   "source": [
    "import pandas as pd\n",
    "import numpy as np"
   ]
  },
  {
   "cell_type": "code",
   "execution_count": 4,
   "metadata": {},
   "outputs": [
    {
     "data": {
      "text/html": [
       "<div>\n",
       "<style scoped>\n",
       "    .dataframe tbody tr th:only-of-type {\n",
       "        vertical-align: middle;\n",
       "    }\n",
       "\n",
       "    .dataframe tbody tr th {\n",
       "        vertical-align: top;\n",
       "    }\n",
       "\n",
       "    .dataframe thead th {\n",
       "        text-align: right;\n",
       "    }\n",
       "</style>\n",
       "<table border=\"1\" class=\"dataframe\">\n",
       "  <thead>\n",
       "    <tr style=\"text-align: right;\">\n",
       "      <th></th>\n",
       "      <th>id</th>\n",
       "      <th>clump_thickness</th>\n",
       "      <th>cell_size_uniformity</th>\n",
       "      <th>cell_shape_uniformity</th>\n",
       "      <th>marginal_adhesion</th>\n",
       "      <th>single_ep_cell_size</th>\n",
       "      <th>bare_nuclei</th>\n",
       "      <th>bland_chromatin</th>\n",
       "      <th>normal_nucleoli</th>\n",
       "      <th>mitoses</th>\n",
       "      <th>class</th>\n",
       "      <th>doctor_name</th>\n",
       "    </tr>\n",
       "  </thead>\n",
       "  <tbody>\n",
       "    <tr>\n",
       "      <th>0</th>\n",
       "      <td>1000025</td>\n",
       "      <td>5.0</td>\n",
       "      <td>1.0</td>\n",
       "      <td>1</td>\n",
       "      <td>1</td>\n",
       "      <td>2</td>\n",
       "      <td>1</td>\n",
       "      <td>3.0</td>\n",
       "      <td>1.0</td>\n",
       "      <td>1</td>\n",
       "      <td>benign</td>\n",
       "      <td>Dr. Doe</td>\n",
       "    </tr>\n",
       "    <tr>\n",
       "      <th>1</th>\n",
       "      <td>1002945</td>\n",
       "      <td>5.0</td>\n",
       "      <td>4.0</td>\n",
       "      <td>4</td>\n",
       "      <td>5</td>\n",
       "      <td>7</td>\n",
       "      <td>10</td>\n",
       "      <td>3.0</td>\n",
       "      <td>2.0</td>\n",
       "      <td>1</td>\n",
       "      <td>benign</td>\n",
       "      <td>Dr. Smith</td>\n",
       "    </tr>\n",
       "    <tr>\n",
       "      <th>2</th>\n",
       "      <td>1015425</td>\n",
       "      <td>3.0</td>\n",
       "      <td>1.0</td>\n",
       "      <td>1</td>\n",
       "      <td>1</td>\n",
       "      <td>2</td>\n",
       "      <td>2</td>\n",
       "      <td>3.0</td>\n",
       "      <td>1.0</td>\n",
       "      <td>1</td>\n",
       "      <td>benign</td>\n",
       "      <td>Dr. Lee</td>\n",
       "    </tr>\n",
       "    <tr>\n",
       "      <th>3</th>\n",
       "      <td>1016277</td>\n",
       "      <td>6.0</td>\n",
       "      <td>8.0</td>\n",
       "      <td>8</td>\n",
       "      <td>1</td>\n",
       "      <td>3</td>\n",
       "      <td>4</td>\n",
       "      <td>3.0</td>\n",
       "      <td>7.0</td>\n",
       "      <td>1</td>\n",
       "      <td>benign</td>\n",
       "      <td>Dr. Smith</td>\n",
       "    </tr>\n",
       "    <tr>\n",
       "      <th>4</th>\n",
       "      <td>1017023</td>\n",
       "      <td>4.0</td>\n",
       "      <td>1.0</td>\n",
       "      <td>1</td>\n",
       "      <td>3</td>\n",
       "      <td>2</td>\n",
       "      <td>1</td>\n",
       "      <td>3.0</td>\n",
       "      <td>1.0</td>\n",
       "      <td>1</td>\n",
       "      <td>benign</td>\n",
       "      <td>Dr. Wong</td>\n",
       "    </tr>\n",
       "  </tbody>\n",
       "</table>\n",
       "</div>"
      ],
      "text/plain": [
       "        id  clump_thickness  cell_size_uniformity  cell_shape_uniformity  \\\n",
       "0  1000025              5.0                   1.0                      1   \n",
       "1  1002945              5.0                   4.0                      4   \n",
       "2  1015425              3.0                   1.0                      1   \n",
       "3  1016277              6.0                   8.0                      8   \n",
       "4  1017023              4.0                   1.0                      1   \n",
       "\n",
       "   marginal_adhesion  single_ep_cell_size bare_nuclei  bland_chromatin  \\\n",
       "0                  1                    2           1              3.0   \n",
       "1                  5                    7          10              3.0   \n",
       "2                  1                    2           2              3.0   \n",
       "3                  1                    3           4              3.0   \n",
       "4                  3                    2           1              3.0   \n",
       "\n",
       "   normal_nucleoli  mitoses   class doctor_name  \n",
       "0              1.0        1  benign     Dr. Doe  \n",
       "1              2.0        1  benign   Dr. Smith  \n",
       "2              1.0        1  benign     Dr. Lee  \n",
       "3              7.0        1  benign   Dr. Smith  \n",
       "4              1.0        1  benign    Dr. Wong  "
      ]
     },
     "execution_count": 4,
     "metadata": {},
     "output_type": "execute_result"
    }
   ],
   "source": [
    "colunas = ['id','clump_thickness','cell_size_uniformity','cell_shape_uniformity','marginal_adhesion','single_ep_cell_size',\n",
    "          'bare_nuclei','bland_chromatin','normal_nucleoli','mitoses','class','doctor_name']\n",
    "\n",
    "data = pd.read_csv('bases/breast_cancer_data.csv',names=colunas)\n",
    "data.head()"
   ]
  },
  {
   "cell_type": "code",
   "execution_count": 16,
   "metadata": {},
   "outputs": [
    {
     "name": "stdout",
     "output_type": "stream",
     "text": [
      "formato:  (699, 12) \n",
      "\n",
      "tipos de dados:  id                         int64\n",
      "clump_thickness          float64\n",
      "cell_size_uniformity     float64\n",
      "cell_shape_uniformity      int64\n",
      "marginal_adhesion          int64\n",
      "single_ep_cell_size        int64\n",
      "bare_nuclei               object\n",
      "bland_chromatin          float64\n",
      "normal_nucleoli          float64\n",
      "mitoses                    int64\n",
      "class                     object\n",
      "doctor_name               object\n",
      "dtype: object \n",
      "\n",
      "principais estatísticas:                   id  clump_thickness  cell_size_uniformity  \\\n",
      "count  6.990000e+02       698.000000            698.000000   \n",
      "mean   1.071704e+06         4.416905              3.137536   \n",
      "std    6.170957e+05         2.817673              3.052575   \n",
      "min    6.163400e+04         1.000000              1.000000   \n",
      "25%    8.706885e+05         2.000000              1.000000   \n",
      "50%    1.171710e+06         4.000000              1.000000   \n",
      "75%    1.238298e+06         6.000000              5.000000   \n",
      "max    1.345435e+07        10.000000             10.000000   \n",
      "\n",
      "       cell_shape_uniformity  marginal_adhesion  single_ep_cell_size  \\\n",
      "count             699.000000         699.000000           699.000000   \n",
      "mean                3.207439           2.793991             3.216023   \n",
      "std                 2.971913           2.843163             2.214300   \n",
      "min                 1.000000           1.000000             1.000000   \n",
      "25%                 1.000000           1.000000             2.000000   \n",
      "50%                 1.000000           1.000000             2.000000   \n",
      "75%                 5.000000           3.500000             4.000000   \n",
      "max                10.000000          10.000000            10.000000   \n",
      "\n",
      "       bland_chromatin  normal_nucleoli     mitoses  \n",
      "count       695.000000       698.000000  699.000000  \n",
      "mean          3.447482         2.868195    1.589413  \n",
      "std           2.441191         3.055647    1.715078  \n",
      "min           1.000000         1.000000    1.000000  \n",
      "25%           2.000000         1.000000    1.000000  \n",
      "50%           3.000000         1.000000    1.000000  \n",
      "75%           5.000000         4.000000    1.000000  \n",
      "max          10.000000        10.000000   10.000000   \n",
      "\n"
     ]
    }
   ],
   "source": [
    "# TODO: entendimento básico dos dados - preencha as lacunas no código a fim de obter o resultado desejado\n",
    "\n",
    "# quantas linhas e quantas colunas existem no dataset?\n",
    "print('formato: ', data.shape, '\\n')\n",
    "\n",
    "# quais os tipos de dados de cada coluna?\n",
    "print('tipos de dados: ', data.dtypes,'\\n')\n",
    "\n",
    "# quais as principais estatísticas dos dados numéricos do dataset?\n",
    "print('principais estatísticas: ', data.describe(), '\\n')"
   ]
  },
  {
   "cell_type": "code",
   "execution_count": 20,
   "metadata": {},
   "outputs": [
    {
     "data": {
      "text/plain": [
       "class      doctor_name\n",
       "benign     Dr. Doe        1.253968\n",
       "           Dr. Lee        1.256198\n",
       "           Dr. Smith      1.382353\n",
       "           Dr. Wong       1.435185\n",
       "malignant  Dr. Doe        6.206897\n",
       "           Dr. Lee        6.366667\n",
       "           Dr. Smith      6.918919\n",
       "           Dr. Wong       6.734694\n",
       "Name: cell_size_uniformity, dtype: float64"
      ]
     },
     "execution_count": 20,
     "metadata": {},
     "output_type": "execute_result"
    }
   ],
   "source": [
    "# TODO: obtendo informações sobre o dataset\n",
    "\n",
    "# retorne uma Serie que mostre qual a classificação (maligno e benigno) que cada médico deu para cada amostra: \n",
    "# Exemplo de retorno\n",
    "# class      doctor_name\n",
    "# benign   Dr. Doe        127\n",
    "#          Dr. Lee        121\n",
    "#          Dr. Smith      102\n",
    "#          Dr. Wong       108\n",
    "# Código:\n",
    "data.groupby(['class', 'doctor_name'])['cell_size_uniformity'].mean()\n"
   ]
  },
  {
   "cell_type": "code",
   "execution_count": 61,
   "metadata": {},
   "outputs": [
    {
     "name": "stdout",
     "output_type": "stream",
     "text": [
      "Existem 5 variáveis correlacionadas com clump_thickness:\n",
      "cell_shape_uniformity    0.654632\n",
      "cell_size_uniformity     0.644636\n",
      "bland_chromatin          0.558924\n",
      "normal_nucleoli          0.535773\n",
      "single_ep_cell_size      0.522108\n",
      "dtype: float64\n"
     ]
    }
   ],
   "source": [
    "# TODO: obtendo informações sobre o dataset\n",
    "\n",
    "# Use o método select_dtypes() para selecionar apenas colunas do tipo float64 e int64. Armazene na variável data_num\n",
    "data_num = data.select_dtypes(['float64', 'int64'])\n",
    "# Encontre as n variáveis que possuem um valor absoluto de correlação maior que 0.5 com a variável clump_thickness, excluindo ela mesma \n",
    "# retorne os valores de forma descendente\n",
    "# sempre utilize a variável data_num para receber o resultado de suas operações\n",
    "\n",
    "data_num = data_num.loc[:, data_num.columns != 'clump_thickness'].corrwith(data_num['clump_thickness'])\n",
    "data_num = data_num.loc[data_num > 0.5].sort_values(ascending=False)\n",
    "\n",
    "print(\"Existem {} variáveis correlacionadas com clump_thickness:\\n{}\".format(len(data_num), data_num))"
   ]
  },
  {
   "cell_type": "code",
   "execution_count": 82,
   "metadata": {},
   "outputs": [
    {
     "name": "stdout",
     "output_type": "stream",
     "text": [
      "Tamanho médio do tipo benigno:  2.9563318777292578 \n",
      "\n",
      "Tamanho médio do tipo maligno:  7.204166666666667 \n",
      "\n",
      "Número máximo de mitoses em tumores benignos:  3\n",
      "\n",
      "Número máximo de mitoses em tumores malignos:  10\n"
     ]
    }
   ],
   "source": [
    "# TODO: obtendo informações sobre o dataset\n",
    "\n",
    "# qual o tamanho médio das células para cada tipo de tumor?\n",
    "mean_size = data.groupby('class')['clump_thickness'].mean()\n",
    "print('Tamanho médio do tipo benigno: ',mean_size['benign'],'\\n')\n",
    "print('Tamanho médio do tipo maligno: ',mean_size['malignant'],'\\n')\n",
    "\n",
    "# qual o número máximo de mitoses em tumores benignos encontrados pelo Dr. Wong?\n",
    "max_mitoses_wong = data.loc[(data['doctor_name'] == 'Dr. Wong') & (data['class'] == 'benign')]['mitoses'].max()\n",
    "print('Número máximo de mitoses em tumores benignos: ', max_mitoses_wong)\n",
    "\n",
    "# e qual o número máximo de mitoses em tumores malignos encontrados pelo mesmo médico?\n",
    "max_malignant_mitoses = data.loc[data['class'] == 'malignant']['mitoses'].max()\n",
    "print('\\nNúmero máximo de mitoses em tumores malignos: ',max_malignant_mitoses)"
   ]
  },
  {
   "cell_type": "code",
   "execution_count": 136,
   "metadata": {},
   "outputs": [
    {
     "name": "stdout",
     "output_type": "stream",
     "text": [
      "data size:  (699, 12)\n",
      "patients that repeats more than two times: id\n",
      "1182404    6\n",
      "1198641    3\n",
      "1276091    5\n",
      "Name: id, dtype: int64\n",
      "filtered data size: (685, 12)\n"
     ]
    }
   ],
   "source": [
    "# TODO: filtrando os dados\n",
    "\n",
    "# Existem dois pacientes (id) que aparecem mais que duas vezes no dataset. Retorne uma série ordenada de forma descendente que mostre o\n",
    "# id do paciente bem como a quantidade de vezes que ele aparece repetido no dataset\n",
    "repeated_patients = data[data.duplicated(['id'], keep=False)].groupby('id')['id'].count()\n",
    "# Elimine esses dois pacientes do dataframe de modo que este contenha apenas pacientes que apareceram no máximo duas vezes\n",
    "filtered_patients = repeated_patients[repeated_patients > 2]\n",
    "filtered_data = data[~data['id'].isin(filtered_patients.index)] \n",
    "\n",
    "print(\"data size: \", data.shape)\n",
    "print(\"patients that repeats more than two times:\", filtered_patients)\n",
    "print(\"filtered data size:\", filtered_data.shape)"
   ]
  },
  {
   "cell_type": "markdown",
   "metadata": {},
   "source": []
  }
 ],
 "metadata": {
  "kernelspec": {
   "display_name": "Python 3",
   "language": "python",
   "name": "python3"
  },
  "language_info": {
   "codemirror_mode": {
    "name": "ipython",
    "version": 3
   },
   "file_extension": ".py",
   "mimetype": "text/x-python",
   "name": "python",
   "nbconvert_exporter": "python",
   "pygments_lexer": "ipython3",
   "version": "3.9.9"
  }
 },
 "nbformat": 4,
 "nbformat_minor": 4
}
